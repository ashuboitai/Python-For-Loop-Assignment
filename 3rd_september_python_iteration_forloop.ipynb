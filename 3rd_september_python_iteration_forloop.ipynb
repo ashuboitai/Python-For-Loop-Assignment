{
 "cells": [
  {
   "cell_type": "code",
   "execution_count": 4,
   "id": "8f19c7b1-4fb6-4f8e-ad4e-e4033e9a0a17",
   "metadata": {},
   "outputs": [
    {
     "name": "stdout",
     "output_type": "stream",
     "text": [
      "1 2 3 4 5 6 7 8 9 10 "
     ]
    }
   ],
   "source": [
    "#Basic Level:\n",
    "'''1. Write a Python program to print the numbers from 1 to 10 using a `for` loop.'''\n",
    "for num in range(1,11):\n",
    "    print(num, end=\" \")"
   ]
  },
  {
   "cell_type": "code",
   "execution_count": 6,
   "id": "48d3db8d-81f4-4317-a6cf-ca945816be53",
   "metadata": {},
   "outputs": [
    {
     "name": "stdout",
     "output_type": "stream",
     "text": [
      "The sum of list is: 21\n"
     ]
    }
   ],
   "source": [
    "#2.Create a program that calculates the sum of all numbers in a list using a `for` loop.\n",
    "sum=0\n",
    "for num in [1,2,3,4,5,6]:\n",
    "    sum+=num\n",
    "print(\"The sum of list is:\" , sum)"
   ]
  },
  {
   "cell_type": "code",
   "execution_count": 8,
   "id": "a4971fe4-1eca-4cad-8ebb-428395ce53df",
   "metadata": {},
   "outputs": [
    {
     "name": "stdout",
     "output_type": "stream",
     "text": [
      "hsotuhsA"
     ]
    }
   ],
   "source": [
    "#3. Write a program to print the characters of a string in reverse order using a `for` loop.\n",
    "s1=\"Ashutosh\"\n",
    "for i in range(len(s1)-1, -1,-1):\n",
    "    print(s1[i], end=\"\")\n",
    "    "
   ]
  },
  {
   "cell_type": "code",
   "execution_count": 10,
   "id": "2a12ade5-9659-4d46-8d7c-34d3e21a34f1",
   "metadata": {},
   "outputs": [
    {
     "name": "stdout",
     "output_type": "stream",
     "text": [
      "720\n"
     ]
    }
   ],
   "source": [
    "#4. Develop a program that finds the factorial of a given number using a `for` loop.\n",
    "n=6\n",
    "fact=1\n",
    "for i in range(1,n+1):\n",
    "    fact*=i\n",
    "print(fact)"
   ]
  },
  {
   "cell_type": "code",
   "execution_count": 19,
   "id": "bfe38930-f61d-4b6a-ad55-b027d901e21c",
   "metadata": {},
   "outputs": [
    {
     "name": "stdin",
     "output_type": "stream",
     "text": [
      "Enter a number 5\n"
     ]
    },
    {
     "name": "stdout",
     "output_type": "stream",
     "text": [
      "5 x 1 = 5\n",
      "5 x 2 = 10\n",
      "5 x 3 = 15\n",
      "5 x 4 = 20\n",
      "5 x 5 = 25\n",
      "5 x 6 = 30\n",
      "5 x 7 = 35\n",
      "5 x 8 = 40\n",
      "5 x 9 = 45\n",
      "5 x 10 = 50\n"
     ]
    }
   ],
   "source": [
    "#5. Create a program to print the multiplication table of a given number using a `for` loop.\n",
    "num=int(input(\"Enter a number\"))\n",
    "for i in range(1,11):\n",
    "     print(f\"{num} x {i} = {num*i}\")\n",
    "   "
   ]
  },
  {
   "cell_type": "code",
   "execution_count": 14,
   "id": "15025330-3b31-428f-85c1-e3bf026b7e2a",
   "metadata": {},
   "outputs": [
    {
     "name": "stdout",
     "output_type": "stream",
     "text": [
      "Total even count in list is: 7 and Total odd count in list is: 6\n"
     ]
    }
   ],
   "source": [
    "#6. Write a program that counts the number of even and odd numbers in a list using a `for` loop.\n",
    "l1=[1,3,5,3,2,1,4,6,15,46,24,13,10]\n",
    "even=0\n",
    "odd=0\n",
    "for i in range(0,len(l1)):\n",
    "    if i%2==0:\n",
    "        even+=1\n",
    "    else:\n",
    "        odd+=1\n",
    "print(\"Total even count in list is:\",even,\"and Total odd count in list is:\",odd)\n",
    "    "
   ]
  },
  {
   "cell_type": "code",
   "execution_count": 23,
   "id": "3ca1b9ad-234a-4da1-8895-82eb2fa3e8f1",
   "metadata": {},
   "outputs": [
    {
     "name": "stdout",
     "output_type": "stream",
     "text": [
      "#1 The square of 1 is: 1\n",
      "#2 The square of 1 is: 1\n",
      "#1 The square of 2 is: 4\n",
      "#2 The square of 2 is: 4\n",
      "#1 The square of 3 is: 9\n",
      "#2 The square of 3 is: 9\n",
      "#1 The square of 4 is: 16\n",
      "#2 The square of 4 is: 16\n",
      "#1 The square of 5 is: 25\n",
      "#2 The square of 5 is: 25\n"
     ]
    }
   ],
   "source": [
    "#7. Develop a program that prints the squares of numbers from 1 to 5 using a `for` loop.\n",
    "for n in range(1,6):\n",
    "    square=n*n\n",
    "    print(\"#1 The square of\",n,\"is:\",square)\n",
    "    print(\"#2 The square of\",n,\"is:\",n**2)"
   ]
  },
  {
   "cell_type": "code",
   "execution_count": 17,
   "id": "eca16f93-5924-4407-ac2a-0fd719cd6e80",
   "metadata": {},
   "outputs": [
    {
     "name": "stdout",
     "output_type": "stream",
     "text": [
      "24\n",
      "24\n"
     ]
    }
   ],
   "source": [
    "#8. Create a program to find the length of a string without using the `len()` function.\n",
    "str=\"i am coding python today\"\n",
    "#print(len(str))\n",
    "count=0\n",
    "for s in str:\n",
    "    count+=1\n",
    "print(count)\n",
    "    "
   ]
  },
  {
   "cell_type": "code",
   "execution_count": 18,
   "id": "264b6ad5-baa1-4cdd-93a1-f12147ecd288",
   "metadata": {},
   "outputs": [
    {
     "name": "stdout",
     "output_type": "stream",
     "text": [
      "5.375\n"
     ]
    }
   ],
   "source": [
    "#9. Write a program that calculates the average of a list of numbers using a `for` loop.\n",
    "sum=0\n",
    "l1=[1,2,3,4,5,6,10,12]\n",
    "for num in l1:\n",
    "    sum+=num\n",
    "average=sum/len(l1)\n",
    "print(average)"
   ]
  },
  {
   "cell_type": "code",
   "execution_count": 24,
   "id": "fac06453-52b7-4137-8436-c42d480afdf7",
   "metadata": {
    "tags": []
   },
   "outputs": [
    {
     "name": "stdout",
     "output_type": "stream",
     "text": [
      "[0, 1, 1, 2, 3, 5, 8, 13, 21, 34]\n"
     ]
    }
   ],
   "source": [
    "#10. Develop a program that prints the first `n` Fibonacci numbers using a `for` loop.\n",
    "n = 10\n",
    "fibonacci = [0, 1]\n",
    "for i in range(2, n):\n",
    "    fibonacci.append(fibonacci[i-1] + fibonacci[i-2])\n",
    "print(fibonacci)"
   ]
  },
  {
   "cell_type": "code",
   "execution_count": 26,
   "id": "a2af001a-fda4-457d-9d91-a946f129317e",
   "metadata": {},
   "outputs": [
    {
     "name": "stdout",
     "output_type": "stream",
     "text": [
      "True\n"
     ]
    }
   ],
   "source": [
    "#11. Write a program to check if a given list contains any duplicates using a `for` loop.\n",
    "l1=[1,2,2,4,3,6,6]\n",
    "duplicates = False\n",
    "for i in range(len(l1)):\n",
    "    for j in range(i+1,len(l1)):\n",
    "        if l1[i]==l1[j]:\n",
    "            duplicates = True\n",
    "            break\n",
    "print(duplicates)"
   ]
  },
  {
   "cell_type": "code",
   "execution_count": 37,
   "id": "bb847c57-48aa-43e0-85b8-ea472229c2f4",
   "metadata": {},
   "outputs": [
    {
     "name": "stdout",
     "output_type": "stream",
     "text": [
      "[2, 3, 5, 7, 11, 13, 17, 19]\n"
     ]
    }
   ],
   "source": [
    "#12. Create a program that prints the prime numbers in a given range using a `for` loop.\n",
    "prime_numbers = []\n",
    "for num in range(1, 20):\n",
    "    if num > 1:\n",
    "        for i in range(2, num):\n",
    "            if (num % i) == 0:\n",
    "                break\n",
    "        else:\n",
    "             prime_numbers.append(num)\n",
    "print(prime_numbers)\n"
   ]
  },
  {
   "cell_type": "code",
   "execution_count": 42,
   "id": "b2dc3d97-9557-4339-a001-59ebf79f0938",
   "metadata": {},
   "outputs": [
    {
     "name": "stdout",
     "output_type": "stream",
     "text": [
      "Total no. of vowels are: 8\n"
     ]
    }
   ],
   "source": [
    "#13. Develop a program that counts the number of vowels in a string using a `for` loop.\n",
    "s1=\"Ashutosh is writing code\"\n",
    "s1=s1.lower()\n",
    "vowels=\"aeiou\"\n",
    "v_count=0\n",
    "for v in s1:\n",
    "    if v in vowels:\n",
    "        v_count+=1\n",
    "print(\"Total no. of vowels are:\",v_count)"
   ]
  },
  {
   "cell_type": "code",
   "execution_count": 43,
   "id": "97a704d7-5281-4620-9dbd-4d2d04a4ab91",
   "metadata": {},
   "outputs": [
    {
     "name": "stdout",
     "output_type": "stream",
     "text": [
      "9\n"
     ]
    }
   ],
   "source": [
    "#14. Write a program to find the maximum element in a 2D list using a nested `for` loop.\n",
    "matrix = [[1, 2, 3], [4, 5, 6], [7, 8, 9]]\n",
    "max_element = matrix[0][0]\n",
    "for row in matrix:\n",
    "    for num in row:\n",
    "        if num > max_element:\n",
    "            max_element = num\n",
    "print(max_element)"
   ]
  },
  {
   "cell_type": "code",
   "execution_count": 44,
   "id": "fc8a726f-a33f-4302-808f-66294b11cd63",
   "metadata": {},
   "outputs": [
    {
     "name": "stdout",
     "output_type": "stream",
     "text": [
      "[1, 3, 4, 5]\n"
     ]
    }
   ],
   "source": [
    "#15. Create a program that removes all occurrences of a specific element from a list using a `for` loop.\\\n",
    "numbers = [1, 2, 3, 4, 5, 2]\n",
    "element = 2\n",
    "modified_list = []\n",
    "for num in numbers:\n",
    "    if num != element:\n",
    "        modified_list.append(num)\n",
    "print(modified_list)"
   ]
  },
  {
   "cell_type": "code",
   "execution_count": 52,
   "id": "5bffded6-d3a6-43d4-a677-6637a9779e53",
   "metadata": {},
   "outputs": [
    {
     "name": "stdout",
     "output_type": "stream",
     "text": [
      "1 x 1 = 1\n",
      "1 x 2 = 2\n",
      "1 x 3 = 3\n",
      "1 x 4 = 4\n",
      "1 x 5 = 5\n",
      "1 x 6 = 6\n",
      "1 x 7 = 7\n",
      "1 x 8 = 8\n",
      "1 x 9 = 9\n",
      "1 x 10 = 10\n",
      "\n",
      "2 x 1 = 2\n",
      "2 x 2 = 4\n",
      "2 x 3 = 6\n",
      "2 x 4 = 8\n",
      "2 x 5 = 10\n",
      "2 x 6 = 12\n",
      "2 x 7 = 14\n",
      "2 x 8 = 16\n",
      "2 x 9 = 18\n",
      "2 x 10 = 20\n",
      "\n",
      "3 x 1 = 3\n",
      "3 x 2 = 6\n",
      "3 x 3 = 9\n",
      "3 x 4 = 12\n",
      "3 x 5 = 15\n",
      "3 x 6 = 18\n",
      "3 x 7 = 21\n",
      "3 x 8 = 24\n",
      "3 x 9 = 27\n",
      "3 x 10 = 30\n",
      "\n",
      "4 x 1 = 4\n",
      "4 x 2 = 8\n",
      "4 x 3 = 12\n",
      "4 x 4 = 16\n",
      "4 x 5 = 20\n",
      "4 x 6 = 24\n",
      "4 x 7 = 28\n",
      "4 x 8 = 32\n",
      "4 x 9 = 36\n",
      "4 x 10 = 40\n",
      "\n",
      "5 x 1 = 5\n",
      "5 x 2 = 10\n",
      "5 x 3 = 15\n",
      "5 x 4 = 20\n",
      "5 x 5 = 25\n",
      "5 x 6 = 30\n",
      "5 x 7 = 35\n",
      "5 x 8 = 40\n",
      "5 x 9 = 45\n",
      "5 x 10 = 50\n",
      "\n"
     ]
    }
   ],
   "source": [
    "#16. Develop a program that generates a multiplication table for numbers from 1 to 5 using a nested `for` loop.\n",
    "for num in range(1,6):\n",
    "     for i in range(1,11):\n",
    "        print(f\"{num} x {i} = {num*i}\")\n",
    "     print()"
   ]
  },
  {
   "cell_type": "code",
   "execution_count": 56,
   "id": "6e3934cb-4b90-4630-b7e6-acf8819f6518",
   "metadata": {},
   "outputs": [
    {
     "name": "stdout",
     "output_type": "stream",
     "text": [
      "[48.88888888888889, 0.0, 40.0, 37.77777777777778, 65.55555555555556]\n"
     ]
    }
   ],
   "source": [
    "#17. Write a program that converts a list of Fahrenheit temperatures to Celsius using a `for` loop.\n",
    "farhenite=[120,32,104,100,150]\n",
    "celsius=[]\n",
    "for f in farhenite:\n",
    "    c=(f-32)*(5/9)\n",
    "    celsius.append(c)\n",
    "print(celsius)"
   ]
  },
  {
   "cell_type": "code",
   "execution_count": 69,
   "id": "5dd3399d-bd08-43b0-875f-5758abb9fe38",
   "metadata": {},
   "outputs": [
    {
     "name": "stdout",
     "output_type": "stream",
     "text": [
      "3 5 5 \n",
      "[3, 5, 5]\n"
     ]
    }
   ],
   "source": [
    "#18. Create a program to print the common elements from two lists using a `for` loop.\n",
    "l1=[2,4,3,5,2,7,5]\n",
    "l2=[5,8,9,6,3,0]\n",
    "for i in range(len(l1)):\n",
    "    for j in range(len(l2)):\n",
    "        if l1[i]==l2[j]:\n",
    "            print(l1[i],end=\" \")\n",
    "print()\n",
    "#2\n",
    "list1 = [2,4,3,5,2,7,5]\n",
    "list2 = [5,8,9,6,3,0]\n",
    "common_elements = []\n",
    "for element in list1:\n",
    "    if element in list2:\n",
    "        common_elements.append(element)\n",
    "print(common_elements)"
   ]
  },
  {
   "cell_type": "code",
   "execution_count": 77,
   "id": "b7b6ab3c-5c1d-40eb-80ab-99ffd3efe0d0",
   "metadata": {},
   "outputs": [
    {
     "name": "stdout",
     "output_type": "stream",
     "text": [
      "* \n",
      "* * \n",
      "* * * \n",
      "* * * * \n",
      "* * * * * \n"
     ]
    }
   ],
   "source": [
    "'''19. Develop a program that prints the pattern of right-angled triangles using a `for` loop. Use ‘*’ to draw the\n",
    "pattern'''\n",
    "\n",
    "for i in range(0,5):\n",
    "    for j in range (i+1):\n",
    "        print(\"*\",end=\" \")\n",
    "    print()"
   ]
  },
  {
   "cell_type": "code",
   "execution_count": 78,
   "id": "afdb0358-616e-42fd-b1d8-5d2ba55deb95",
   "metadata": {},
   "outputs": [
    {
     "name": "stdout",
     "output_type": "stream",
     "text": [
      "12\n"
     ]
    }
   ],
   "source": [
    "#20. Write a program to find the greatest common divisor (GCD) of two numbers using a `for` loop.\n",
    "num1 = 24\n",
    "num2 = 36\n",
    "gcd = 1\n",
    "for i in range(1, min(num1, num2) + 1):\n",
    "    if num1 % i == 0 and num2 % i == 0:\n",
    "        gcd = i\n",
    "print(gcd)"
   ]
  },
  {
   "cell_type": "code",
   "execution_count": 1,
   "id": "2488de44-5931-4105-80c9-2f13ab9efc02",
   "metadata": {},
   "outputs": [
    {
     "name": "stdout",
     "output_type": "stream",
     "text": [
      "[6, 15, 24]\n"
     ]
    }
   ],
   "source": [
    "#Advanced Level:\n",
    "#21. Create a program that calculates the sum of the digits of numbers in a list using a list comprehension.\n",
    "\n",
    "numbers = [123, 456, 789]\n",
    "sum_digits = [sum(int(digit) for digit in str(num)) for num in numbers]\n",
    "print(sum_digits)"
   ]
  },
  {
   "cell_type": "code",
   "execution_count": 2,
   "id": "0da145ab-4db2-48a7-91f4-29ef17b70b73",
   "metadata": {},
   "outputs": [
    {
     "name": "stdout",
     "output_type": "stream",
     "text": [
      "[2, 3]\n"
     ]
    }
   ],
   "source": [
    "#22. Write a program to find the prime factors of a given number using a `for` loop and list comprehension.\n",
    "num = 36\n",
    "prime_factors = [factor for factor in range(2, num) if num % factor == 0 and all(factor % i != 0 for i in range(2, factor))]\n",
    "print(prime_factors)"
   ]
  },
  {
   "cell_type": "code",
   "execution_count": 3,
   "id": "f7be2153-06c1-40d4-b766-56f1dabbaf19",
   "metadata": {},
   "outputs": [
    {
     "name": "stdout",
     "output_type": "stream",
     "text": [
      "[1, 2, 3, 4, 5, 6]\n"
     ]
    }
   ],
   "source": [
    "'''23. Develop a program that extracts unique elements from a list and stores them in a new list using a list\n",
    "comprehension.'''\n",
    "numbers = [1, 2, 3, 3, 4, 5, 5, 6]\n",
    "unique_elements = list(set(numbers))\n",
    "print(unique_elements)"
   ]
  },
  {
   "cell_type": "code",
   "execution_count": 4,
   "id": "0eda7b4d-7420-453e-9ae7-281823bb8513",
   "metadata": {},
   "outputs": [
    {
     "name": "stdout",
     "output_type": "stream",
     "text": [
      "[0, 1, 2, 3, 4, 5, 6, 7, 8, 9, 11, 22, 33, 44, 55, 66, 77, 88, 99]\n"
     ]
    }
   ],
   "source": [
    "'''24. Create a program that generates a list of all palindromic numbers up to a specified limit using a list\n",
    "comprehension.'''\n",
    "limit = 100\n",
    "palindromic_numbers = [num for num in range(limit) if str(num) == str(num)[::-1]]\n",
    "print(palindromic_numbers)"
   ]
  },
  {
   "cell_type": "code",
   "execution_count": 11,
   "id": "d1ab8734-c0f0-4da4-8afa-e1ebe3c0fe7e",
   "metadata": {},
   "outputs": [
    {
     "name": "stdout",
     "output_type": "stream",
     "text": [
      "[1, 2, 3, 4, 5, 6, 7, 8, 9]\n"
     ]
    }
   ],
   "source": [
    "#25. Write a program to flatten a nested list using list comprehension.\n",
    "nested_list = [[1, 2, 3], [4, 5, 6], [7, 8, 9]]\n",
    "flattened_list = [x for sublist in nested_list for x in sublist]\n",
    "print(flattened_list)"
   ]
  },
  {
   "cell_type": "code",
   "execution_count": 12,
   "id": "d303f19b-3986-49c8-b99c-4cf0d165dc30",
   "metadata": {},
   "outputs": [
    {
     "name": "stdout",
     "output_type": "stream",
     "text": [
      "6\n",
      "9\n"
     ]
    }
   ],
   "source": [
    "'''26. Develop a program that computes the sum of even and odd numbers in a list separately using list\n",
    "comprehension.'''\n",
    "numbers = [1, 2, 3, 4, 5]\n",
    "sum_even = sum([num for num in numbers if num % 2 == 0])\n",
    "sum_odd = sum([num for num in numbers if num % 2 != 0])\n",
    "print(sum_even)\n",
    "print(sum_odd)"
   ]
  },
  {
   "cell_type": "code",
   "execution_count": 13,
   "id": "f945459f-14a7-48e8-b1c0-ac809e6e97f2",
   "metadata": {},
   "outputs": [
    {
     "name": "stdout",
     "output_type": "stream",
     "text": [
      "[1, 9, 25, 49, 81]\n"
     ]
    }
   ],
   "source": [
    "'''27. Create a program that generates a list of squares of odd numbers between 1 and 10 using list\n",
    "comprehension.'''\n",
    "squares_odd = [num ** 2 for num in range(1, 11) if num % 2 != 0]\n",
    "print(squares_odd)"
   ]
  },
  {
   "cell_type": "code",
   "execution_count": 14,
   "id": "88a79a68-ffef-430d-9115-8d54276fbd13",
   "metadata": {},
   "outputs": [
    {
     "name": "stdout",
     "output_type": "stream",
     "text": [
      "{'a': 1, 'b': 2, 'c': 3}\n"
     ]
    }
   ],
   "source": [
    "#28. Write a program that combines two lists into a dictionary using list comprehension.\n",
    "keys = ['a', 'b', 'c']\n",
    "values = [1, 2, 3]\n",
    "combined_dict = {key: value for key, value in zip(keys, values)}\n",
    "print(combined_dict)"
   ]
  },
  {
   "cell_type": "code",
   "execution_count": 15,
   "id": "19131aaa-7b26-4ba1-87ca-0e94ba763dd0",
   "metadata": {},
   "outputs": [
    {
     "name": "stdout",
     "output_type": "stream",
     "text": [
      "['e', 'o', 'o']\n"
     ]
    }
   ],
   "source": [
    "#29. Develop a program that extracts the vowels from a string and stores them in a list using list comprehension.\n",
    "string = \"Hello, World!\"\n",
    "vowels = [char for char in string if char.lower() in 'aeiou']\n",
    "print(vowels)"
   ]
  },
  {
   "cell_type": "code",
   "execution_count": 16,
   "id": "4278d8c5-a493-43a1-bb58-c90f6e57a45e",
   "metadata": {},
   "outputs": [
    {
     "name": "stdout",
     "output_type": "stream",
     "text": [
      "['123', '456']\n"
     ]
    }
   ],
   "source": [
    "#30. Create a program that removes all non-numeric characters from a list of strings using list comprehension.\n",
    "strings = ['abc', '123', 'def', '456']\n",
    "numeric_strings = [string for string in strings if string.isdigit()]\n",
    "print(numeric_strings)"
   ]
  },
  {
   "cell_type": "code",
   "execution_count": 29,
   "id": "bb0da874-f018-46e5-af7d-06c84b03ee02",
   "metadata": {},
   "outputs": [
    {
     "name": "stdout",
     "output_type": "stream",
     "text": [
      "[2, 3, 5, 7, 11, 13, 17, 19, 23, 29, 31, 37, 41, 43, 47, 53, 59, 61, 67, 71, 73, 79, 83, 89, 97]\n"
     ]
    }
   ],
   "source": [
    "#Challenge Level:\n",
    "'''31. Write a program to generate a list of prime numbers using the Sieve of Eratosthenes algorithm and list\n",
    "comprehension.'''\n",
    "limit = 100\n",
    "numbers = [True] * (limit + 1)\n",
    "numbers[0] = numbers[1] = False\n",
    "for i in range(2, int(limit ** 0.5) + 1):\n",
    "    if numbers[i]:\n",
    "        for j in range(i * i, limit + 1, i):\n",
    "            numbers[j] = False\n",
    "prime_numbers = [num for num in range(limit + 1) if numbers[num]]\n",
    "print(prime_numbers)"
   ]
  },
  {
   "cell_type": "code",
   "execution_count": 30,
   "id": "ef1f3a00-cfcb-44f8-a88f-5a8a560efedc",
   "metadata": {},
   "outputs": [
    {
     "name": "stdout",
     "output_type": "stream",
     "text": [
      "[(3, 4, 5), (5, 12, 13), (6, 8, 10), (8, 15, 17), (9, 12, 15), (12, 16, 20)]\n"
     ]
    }
   ],
   "source": [
    "'''32. Create a program that generates a list of all Pythagorean triplets up to a specified limit using list\n",
    "comprehension.'''\n",
    "limit = 20\n",
    "pythagorean_triplets = [(a, b, c) for a in range(1, limit + 1) for b in range(a, limit + 1) for c in range(b, limit + 1) if a**2 + b**2 == c**2]\n",
    "print(pythagorean_triplets)"
   ]
  },
  {
   "cell_type": "code",
   "execution_count": 31,
   "id": "0adcf796-5432-442a-ac69-f0cf70e1e2e4",
   "metadata": {},
   "outputs": [
    {
     "name": "stdout",
     "output_type": "stream",
     "text": [
      "[(1, 'a'), (1, 'b'), (1, 'c'), (2, 'a'), (2, 'b'), (2, 'c'), (3, 'a'), (3, 'b'), (3, 'c')]\n"
     ]
    }
   ],
   "source": [
    "#33. Develop a program that generates a list of all possible combinations of two lists using list comprehension.\n",
    "list1 = [1, 2, 3]\n",
    "list2 = ['a', 'b', 'c']\n",
    "combinations = [(x, y) for x in list1 for y in list2]\n",
    "print(combinations)"
   ]
  },
  {
   "cell_type": "code",
   "execution_count": 32,
   "id": "55c746d2-2bc9-486c-8400-3e55e0ae3b6d",
   "metadata": {},
   "outputs": [
    {
     "name": "stdout",
     "output_type": "stream",
     "text": [
      "3.7142857142857144\n",
      "4\n",
      "5\n"
     ]
    }
   ],
   "source": [
    "'''34. Write a program that calculates the mean, median, and mode of a list of numbers using list\n",
    "comprehension.'''\n",
    "import statistics\n",
    "numbers = [1, 2, 3, 4, 5, 5, 6]\n",
    "mean = statistics.mean(numbers)\n",
    "median = statistics.median(numbers)\n",
    "mode = statistics.mode(numbers)\n",
    "print(mean)\n",
    "print(median)\n",
    "print(mode)"
   ]
  },
  {
   "cell_type": "code",
   "execution_count": 4,
   "id": "fb0386a0-2480-447b-824c-43c24dbc0a04",
   "metadata": {},
   "outputs": [
    {
     "name": "stdout",
     "output_type": "stream",
     "text": [
      "1\n",
      "1 1\n",
      "1 2 1\n",
      "1 3 3 1\n",
      "1 4 6 4 1\n"
     ]
    }
   ],
   "source": [
    "#35 Generate Pascal's triangle up to a specified number of rows using list comprehension:\n",
    "num_rows = 5\n",
    "\n",
    "triangle = [[1] * (row + 1) for row in range(num_rows)]\n",
    "\n",
    "for row in range(num_rows):\n",
    "    for col in range(1, row):\n",
    "        triangle[row][col] = triangle[row-1][col-1] + triangle[row-1][col]\n",
    "\n",
    "for row in triangle:\n",
    "    print(\" \".join(str(num) for num in row))"
   ]
  },
  {
   "cell_type": "code",
   "execution_count": 33,
   "id": "5c55701c-d699-4644-9d23-ef04d55718c1",
   "metadata": {},
   "outputs": [
    {
     "name": "stdout",
     "output_type": "stream",
     "text": [
      "[1, 2, 6, 6, 3]\n"
     ]
    }
   ],
   "source": [
    "'''36. Develop a program that calculates the sum of the digits of a factorial of numbers from 1 to 5 using list\n",
    "comprehension.'''\n",
    "import math\n",
    "factorial_sum_digits = [sum(int(digit) for digit in str(math.factorial(num))) for num in range(1, 6)]\n",
    "print(factorial_sum_digits)"
   ]
  },
  {
   "cell_type": "code",
   "execution_count": 34,
   "id": "3c6928d9-cf2b-4091-aaf2-90fd5b704a54",
   "metadata": {},
   "outputs": [
    {
     "name": "stdout",
     "output_type": "stream",
     "text": [
      "quick\n"
     ]
    }
   ],
   "source": [
    "#37. Write a program that finds the longest word in a sentence using list comprehension.\n",
    "sentence = \"The quick brown fox jumps over the lazy dog\"\n",
    "longest_word = max([word for word in sentence.split()], key=len)\n",
    "print(longest_word)"
   ]
  },
  {
   "cell_type": "code",
   "execution_count": 35,
   "id": "01d13ff9-7f05-41ae-96dc-967a440a32dc",
   "metadata": {},
   "outputs": [
    {
     "name": "stdout",
     "output_type": "stream",
     "text": [
      "[]\n"
     ]
    }
   ],
   "source": [
    "'''38. Create a program that filters a list of strings to include only those with more than three vowels using list\n",
    "comprehension.'''\n",
    "strings = [\"hello\", \"world\", \"Python\", \"programming\"]\n",
    "filtered_strings = [string for string in strings if sum(1 for char in string.lower() if char in 'aeiou') > 3]\n",
    "print(filtered_strings)"
   ]
  },
  {
   "cell_type": "code",
   "execution_count": 2,
   "id": "db693a0e-62ef-4c2d-96a9-4f0fe27c0ca2",
   "metadata": {},
   "outputs": [
    {
     "name": "stdout",
     "output_type": "stream",
     "text": [
      "13501\n"
     ]
    }
   ],
   "source": [
    "#39 Calculate the sum of the digits of numbers from 1 to 1000 using list comprehension:\n",
    "sum_digits = [sum(int(digit) for digit in str(num)) for num in range(1, 1001)]\n",
    "total_sum = sum(sum_digits)\n",
    "print(total_sum)"
   ]
  },
  {
   "cell_type": "code",
   "execution_count": 37,
   "id": "13d2f953-7d82-455d-9e46-806787a20c56",
   "metadata": {},
   "outputs": [
    {
     "name": "stdout",
     "output_type": "stream",
     "text": [
      "[2, 3, 5, 7, 11]\n"
     ]
    }
   ],
   "source": [
    "#40. Write a program that generates a list of prime palindromic numbers using list comprehension.\n",
    "limit = 100\n",
    "prime_palindromic_numbers = [num for num in range(2, limit + 1) if all(num % i != 0 for i in range(2, int(num ** 0.5) + 1)) and str(num) == str(num)[::-1]]\n",
    "print(prime_palindromic_numbers)"
   ]
  },
  {
   "cell_type": "code",
   "execution_count": null,
   "id": "3a22c138-d368-4560-b0ad-b00e6d571dc4",
   "metadata": {},
   "outputs": [],
   "source": []
  }
 ],
 "metadata": {
  "kernelspec": {
   "display_name": "Python 3 (ipykernel)",
   "language": "python",
   "name": "python3"
  },
  "language_info": {
   "codemirror_mode": {
    "name": "ipython",
    "version": 3
   },
   "file_extension": ".py",
   "mimetype": "text/x-python",
   "name": "python",
   "nbconvert_exporter": "python",
   "pygments_lexer": "ipython3",
   "version": "3.10.8"
  }
 },
 "nbformat": 4,
 "nbformat_minor": 5
}
